{
 "cells": [
  {
   "cell_type": "code",
   "execution_count": 1,
   "metadata": {
    "collapsed": false
   },
   "outputs": [
    {
     "name": "stderr",
     "output_type": "stream",
     "text": [
      "Using TensorFlow backend.\n"
     ]
    },
    {
     "name": "stdout",
     "output_type": "stream",
     "text": [
      "[name: \"/cpu:0\"\n",
      "device_type: \"CPU\"\n",
      "memory_limit: 268435456\n",
      "locality {\n",
      "}\n",
      "incarnation: 8423361828263830275\n",
      ", name: \"/gpu:0\"\n",
      "device_type: \"GPU\"\n",
      "memory_limit: 7768827495\n",
      "locality {\n",
      "  bus_id: 1\n",
      "}\n",
      "incarnation: 15593128673671223761\n",
      "physical_device_desc: \"device: 0, name: GeForce GTX 1070, pci bus id: 0000:01:00.0\"\n",
      "]\n"
     ]
    }
   ],
   "source": [
    "import csv\n",
    "import matplotlib.pyplot as plt\n",
    "from matplotlib.colors import ColorConverter\n",
    "from PIL import Image\n",
    "import numpy as np\n",
    "import cv2\n",
    "import gc\n",
    "from sklearn.model_selection import train_test_split\n",
    "import os\n",
    "import csv\n",
    "import sklearn\n",
    "import random # for shuffle\n",
    "import time\n",
    "\n",
    "gc.collect()\n",
    "#import h5py\n",
    "\n",
    "# keras_tqdm = keras progress bar (some bugs without)\n",
    "# https://pypi.python.org/pypi/keras-tqdm\n",
    "# http://forums.fast.ai/t/jupyter-notebook-dies-freezes-during-training/2651/4\n",
    "from keras_tqdm import TQDMNotebookCallback\n",
    "\n",
    "import keras\n",
    "from keras.models import Sequential\n",
    "from keras.layers import Flatten, Dense, Cropping2D, Lambda\n",
    "from keras.layers import Conv2D, Dropout, MaxPooling2D\n",
    "from keras.layers.normalization import BatchNormalization\n",
    "from keras.callbacks import ModelCheckpoint\n",
    "import kerasvis\n",
    "\n",
    "from tensorflow.python.client import device_lib\n",
    "print(device_lib.list_local_devices())\n",
    "\n",
    "\n",
    "# NOTES FOR WRITEUP\n",
    "# data - intially provided data\n",
    "# a2 - extra data\n",
    "# a3 - extra data from harder track\n",
    "# a4 - extra data reverse\n",
    "# a5 - \n"
   ]
  },
  {
   "cell_type": "code",
   "execution_count": null,
   "metadata": {
    "collapsed": false
   },
   "outputs": [],
   "source": []
  },
  {
   "cell_type": "code",
   "execution_count": 2,
   "metadata": {
    "collapsed": false
   },
   "outputs": [
    {
     "name": "stdout",
     "output_type": "stream",
     "text": [
      "10404\n"
     ]
    }
   ],
   "source": [
    "samples = []\n",
    "first = True\n",
    "with open('../DATA0/driving_log.csv') as csvfile:\n",
    "    reader = csv.reader(csvfile)\n",
    "    for line in reader:\n",
    "        if not first:\n",
    "            samples.append(line)\n",
    "        else:\n",
    "            first = False\n",
    "            \n",
    "random.shuffle(samples)\n",
    "\n",
    "print(len(samples))\n",
    "\n",
    "\n",
    "\n",
    "\n",
    "#print(len(samples))\n",
    "#print(samples[0])"
   ]
  },
  {
   "cell_type": "code",
   "execution_count": 3,
   "metadata": {
    "collapsed": false
   },
   "outputs": [],
   "source": [
    "#X, y = read_training_data_into_memory(samples)\n"
   ]
  },
  {
   "cell_type": "code",
   "execution_count": 4,
   "metadata": {
    "collapsed": false
   },
   "outputs": [],
   "source": [
    "# driving_log.csv - header\n",
    "# center,left,right,steering,throttle,brake,speed\n",
    "\n",
    "# dealing with unbalanced data with class_weight\n",
    "# https://datascience.stackexchange.com/questions/13490/how-to-set-class-weights-for-imbalanced-classes-in-keras\n",
    "\n",
    "#from sklearn.utils import class_weight\n",
    "import sklearn.utils.class_weight\n",
    "\n",
    "def generator(samples,batch_size=32, image_prefix_path=\"../DATA0/IMG/\"):\n",
    "    num_samples = len(samples)\n",
    "    while 1: # Loop forever so the generator never terminates\n",
    "        random.shuffle(samples)\n",
    "        for offset in range(0, num_samples, batch_size):\n",
    "            batch_samples = samples[offset:offset+batch_size]\n",
    "            images = []\n",
    "            angles = []\n",
    "            angle_offsets = [0.0, 0.20, -0.20]\n",
    "            \n",
    "            for batch_sample in batch_samples:\n",
    "                center_angle = float(batch_sample[3])\n",
    "\n",
    "                for image_position in range(3):\n",
    "                    image_subpath = batch_sample[image_position].split('/')[-1]\n",
    "                    image_path = image_prefix_path + image_subpath\n",
    "                    image = cv2.imread(image_path)\n",
    "                    images.append(image)\n",
    "                    angle = center_angle + angle_offsets[image_position]\n",
    "                    angles.append(angle)\n",
    "\n",
    "                    # also add flipped image and angle\n",
    "                    flipped_image = np.fliplr(image)\n",
    "                    flipped_angle_for_image = -angle\n",
    "                    images.append(flipped_image)\n",
    "                    angles.append(flipped_angle_for_image)\n",
    "         \n",
    "            # trim image to only see section with road\n",
    "            X_train = np.array(images)\n",
    "            #print(X_train.shape)\n",
    "            y_train = np.array(angles)\n",
    "            \n",
    "            #class_weight = sklearn.utils.class_weight.compute_class_weight('balanced', np.unique(y_train), y_train)\n",
    "            sample_weight = sklearn.utils.class_weight.compute_sample_weight('balanced', y_train)\n",
    "            \n",
    "            #print(y_train)\n",
    "            #print(class_weight)\n",
    "            #print(sample_weight)\n",
    "            #print(X_train.shape)\n",
    "            #print(y_train.shape)\n",
    "            #print(class_weight.shape)\n",
    "            #print(sample_weight.shape)\n",
    "\n",
    "            \n",
    "            yield sklearn.utils.shuffle(X_train, y_train, sample_weight)"
   ]
  },
  {
   "cell_type": "code",
   "execution_count": 5,
   "metadata": {
    "collapsed": false
   },
   "outputs": [
    {
     "name": "stdout",
     "output_type": "stream",
     "text": [
      "8323 2081\n"
     ]
    }
   ],
   "source": [
    "#X_train, X_validation, y_train, y_validation = train_test_split(X, y, test_size=0.2)\n",
    "#print(len(X_train), len(X_validation))\n",
    "train_samples, validation_samples = train_test_split(samples, test_size=0.2)\n",
    "\n",
    "print(len(train_samples), len(validation_samples))\n",
    "\n",
    "BATCH_SIZE = 64 # 32 and 64 works mem wise! iteration for 32 is 90s per epoch, around 58 for 64"
   ]
  },
  {
   "cell_type": "code",
   "execution_count": null,
   "metadata": {
    "collapsed": false
   },
   "outputs": [],
   "source": []
  },
  {
   "cell_type": "code",
   "execution_count": 6,
   "metadata": {
    "collapsed": false
   },
   "outputs": [],
   "source": [
    "# compile and train the model using the generator function\n",
    "train_generator = generator(train_samples, batch_size=BATCH_SIZE)\n",
    "validation_generator = generator(validation_samples, batch_size=BATCH_SIZE)\n",
    "\n",
    "# just for visualization\n"
   ]
  },
  {
   "cell_type": "code",
   "execution_count": 7,
   "metadata": {
    "collapsed": false
   },
   "outputs": [],
   "source": [
    "#X_train = np.array(images)\n",
    "#y_train = np.array(measurements)"
   ]
  },
  {
   "cell_type": "code",
   "execution_count": 8,
   "metadata": {
    "collapsed": false
   },
   "outputs": [],
   "source": [
    "#print(X_train.shape)\n",
    "#print(y_train.shape)"
   ]
  },
  {
   "cell_type": "code",
   "execution_count": 9,
   "metadata": {
    "collapsed": false
   },
   "outputs": [],
   "source": [
    "img_input_shape=(160,320,3)\n",
    "#batch_size=256\n",
    "#epochs=15\n",
    "\n",
    "# Crop the image - top 50px and bottom 0px\n",
    "# ((top_crop, bottom_crop), (left_crop, right_crop)) = \n",
    "crop_pattern = ((50,25),(0,0))\n",
    "model = Sequential()\n",
    "model.add(Lambda(lambda x: x/255.0 - 0.5, input_shape=img_input_shape))\n",
    "model.add(Cropping2D(cropping=crop_pattern))\n",
    "model.add(Conv2D(24,(5,5),padding='valid', activation='relu', strides=(2,2), kernel_regularizer='l2',\n",
    "                kernel_initializer='he_normal'))\n",
    "model.add(BatchNormalization())\n",
    "model.add(MaxPooling2D(padding='same'))\n",
    "model.add(Conv2D(36,(5,5),padding='valid', activation='relu', strides=(2,2), kernel_regularizer='l2',\n",
    "                kernel_initializer='he_normal'))\n",
    "model.add(BatchNormalization())\n",
    "model.add(Conv2D(48,(5,5),padding='valid', activation='relu', strides=(2,2), kernel_regularizer='l2'))\n",
    "model.add(Conv2D(64,(3,3),padding='valid', activation='relu', strides=(1,1), kernel_regularizer='l2'))\n",
    "model.add(Flatten())\n",
    "model.add(Dense(400, activation='selu'))\n",
    "model.add(Dropout(0.5))\n",
    "model.add(Dense(100, activation='selu'))\n",
    "model.add(Dropout(0.25))\n",
    "model.add(Dense(50, activation='selu'))\n",
    "model.add(Dense(10, activation='selu'))\n",
    "model.add(Dense(1,kernel_regularizer='l1', activation='tanh'))\n",
    "\n",
    "\n",
    "model.compile(loss='mse', optimizer='adam')"
   ]
  },
  {
   "cell_type": "code",
   "execution_count": 10,
   "metadata": {
    "collapsed": false
   },
   "outputs": [
    {
     "name": "stdout",
     "output_type": "stream",
     "text": [
      "<class 'keras.layers.core.Lambda'>\n",
      "<class 'keras.layers.convolutional.Cropping2D'>\n",
      "<class 'keras.layers.convolutional.Conv2D'>\n",
      "<class 'keras.layers.normalization.BatchNormalization'>\n",
      "<class 'keras.layers.pooling.MaxPooling2D'>\n",
      "<class 'keras.layers.convolutional.Conv2D'>\n",
      "<class 'keras.layers.normalization.BatchNormalization'>\n",
      "<class 'keras.layers.convolutional.Conv2D'>\n",
      "<class 'keras.layers.convolutional.Conv2D'>\n",
      "<class 'keras.layers.core.Flatten'>\n",
      "<class 'keras.layers.core.Dense'>\n",
      "<class 'keras.layers.core.Dropout'>\n",
      "<class 'keras.layers.core.Dense'>\n",
      "<class 'keras.layers.core.Dropout'>\n",
      "<class 'keras.layers.core.Dense'>\n",
      "<class 'keras.layers.core.Dense'>\n",
      "<class 'keras.layers.core.Dense'>\n"
     ]
    }
   ],
   "source": [
    "for layer in model.layers:\n",
    "    print(type(layer))"
   ]
  },
  {
   "cell_type": "code",
   "execution_count": 11,
   "metadata": {
    "collapsed": false,
    "scrolled": true
   },
   "outputs": [
    {
     "name": "stdout",
     "output_type": "stream",
     "text": [
      "_________________________________________________________________\n",
      "Layer (type)                 Output Shape              Param #   \n",
      "=================================================================\n",
      "lambda_1 (Lambda)            (None, 160, 320, 3)       0         \n",
      "_________________________________________________________________\n",
      "cropping2d_1 (Cropping2D)    (None, 85, 320, 3)        0         \n",
      "_________________________________________________________________\n",
      "conv2d_1 (Conv2D)            (None, 41, 158, 24)       1824      \n",
      "_________________________________________________________________\n",
      "batch_normalization_1 (Batch (None, 41, 158, 24)       96        \n",
      "_________________________________________________________________\n",
      "max_pooling2d_1 (MaxPooling2 (None, 21, 79, 24)        0         \n",
      "_________________________________________________________________\n",
      "conv2d_2 (Conv2D)            (None, 9, 38, 36)         21636     \n",
      "_________________________________________________________________\n",
      "batch_normalization_2 (Batch (None, 9, 38, 36)         144       \n",
      "_________________________________________________________________\n",
      "conv2d_3 (Conv2D)            (None, 3, 17, 48)         43248     \n",
      "_________________________________________________________________\n",
      "conv2d_4 (Conv2D)            (None, 1, 15, 64)         27712     \n",
      "_________________________________________________________________\n",
      "flatten_1 (Flatten)          (None, 960)               0         \n",
      "_________________________________________________________________\n",
      "dense_1 (Dense)              (None, 400)               384400    \n",
      "_________________________________________________________________\n",
      "dropout_1 (Dropout)          (None, 400)               0         \n",
      "_________________________________________________________________\n",
      "dense_2 (Dense)              (None, 100)               40100     \n",
      "_________________________________________________________________\n",
      "dropout_2 (Dropout)          (None, 100)               0         \n",
      "_________________________________________________________________\n",
      "dense_3 (Dense)              (None, 50)                5050      \n",
      "_________________________________________________________________\n",
      "dense_4 (Dense)              (None, 10)                510       \n",
      "_________________________________________________________________\n",
      "dense_5 (Dense)              (None, 1)                 11        \n",
      "=================================================================\n",
      "Total params: 524,731\n",
      "Trainable params: 524,611\n",
      "Non-trainable params: 120\n",
      "_________________________________________________________________\n"
     ]
    }
   ],
   "source": [
    "import pydot\n",
    "model.summary()\n",
    "\n",
    "\n",
    "#from IPython.display import SVG\n",
    "#from keras.utils.vis_utils import model_to_dot\n",
    "\n",
    "#SVG(model_to_dot(model).create(prog='dot', format='svg'))\n"
   ]
  },
  {
   "cell_type": "code",
   "execution_count": 12,
   "metadata": {
    "collapsed": false
   },
   "outputs": [
    {
     "data": {
      "image/svg+xml": [
       "<svg height=\"1286pt\" viewBox=\"0.00 0.00 268.00 1286.00\" width=\"268pt\" xmlns=\"http://www.w3.org/2000/svg\" xmlns:xlink=\"http://www.w3.org/1999/xlink\">\n",
       "<g class=\"graph\" id=\"graph0\" transform=\"scale(1 1) rotate(0) translate(4 1282)\">\n",
       "<title>G</title>\n",
       "<polygon fill=\"white\" points=\"-4,4 -4,-1282 264,-1282 264,4 -4,4\" stroke=\"none\"/>\n",
       "<!-- 140601609044768 -->\n",
       "<g class=\"node\" id=\"node1\"><title>140601609044768</title>\n",
       "<polygon fill=\"none\" points=\"43.5,-1241.5 43.5,-1277.5 216.5,-1277.5 216.5,-1241.5 43.5,-1241.5\" stroke=\"black\"/>\n",
       "<text font-family=\"Times,serif\" font-size=\"14.00\" text-anchor=\"middle\" x=\"130\" y=\"-1255.8\">lambda_1_input: InputLayer</text>\n",
       "</g>\n",
       "<!-- 140601609044320 -->\n",
       "<g class=\"node\" id=\"node2\"><title>140601609044320</title>\n",
       "<polygon fill=\"none\" points=\"68.5,-1168.5 68.5,-1204.5 191.5,-1204.5 191.5,-1168.5 68.5,-1168.5\" stroke=\"black\"/>\n",
       "<text font-family=\"Times,serif\" font-size=\"14.00\" text-anchor=\"middle\" x=\"130\" y=\"-1182.8\">lambda_1: Lambda</text>\n",
       "</g>\n",
       "<!-- 140601609044768&#45;&gt;140601609044320 -->\n",
       "<g class=\"edge\" id=\"edge1\"><title>140601609044768-&gt;140601609044320</title>\n",
       "<path d=\"M130,-1241.31C130,-1233.29 130,-1223.55 130,-1214.57\" fill=\"none\" stroke=\"black\"/>\n",
       "<polygon fill=\"black\" points=\"133.5,-1214.53 130,-1204.53 126.5,-1214.53 133.5,-1214.53\" stroke=\"black\"/>\n",
       "</g>\n",
       "<!-- 140601609044432 -->\n",
       "<g class=\"node\" id=\"node3\"><title>140601609044432</title>\n",
       "<polygon fill=\"none\" points=\"46.5,-1095.5 46.5,-1131.5 213.5,-1131.5 213.5,-1095.5 46.5,-1095.5\" stroke=\"black\"/>\n",
       "<text font-family=\"Times,serif\" font-size=\"14.00\" text-anchor=\"middle\" x=\"130\" y=\"-1109.8\">cropping2d_1: Cropping2D</text>\n",
       "</g>\n",
       "<!-- 140601609044320&#45;&gt;140601609044432 -->\n",
       "<g class=\"edge\" id=\"edge2\"><title>140601609044320-&gt;140601609044432</title>\n",
       "<path d=\"M130,-1168.31C130,-1160.29 130,-1150.55 130,-1141.57\" fill=\"none\" stroke=\"black\"/>\n",
       "<polygon fill=\"black\" points=\"133.5,-1141.53 130,-1131.53 126.5,-1141.53 133.5,-1141.53\" stroke=\"black\"/>\n",
       "</g>\n",
       "<!-- 140601609044544 -->\n",
       "<g class=\"node\" id=\"node4\"><title>140601609044544</title>\n",
       "<polygon fill=\"none\" points=\"68.5,-1022.5 68.5,-1058.5 191.5,-1058.5 191.5,-1022.5 68.5,-1022.5\" stroke=\"black\"/>\n",
       "<text font-family=\"Times,serif\" font-size=\"14.00\" text-anchor=\"middle\" x=\"130\" y=\"-1036.8\">conv2d_1: Conv2D</text>\n",
       "</g>\n",
       "<!-- 140601609044432&#45;&gt;140601609044544 -->\n",
       "<g class=\"edge\" id=\"edge3\"><title>140601609044432-&gt;140601609044544</title>\n",
       "<path d=\"M130,-1095.31C130,-1087.29 130,-1077.55 130,-1068.57\" fill=\"none\" stroke=\"black\"/>\n",
       "<polygon fill=\"black\" points=\"133.5,-1068.53 130,-1058.53 126.5,-1068.53 133.5,-1068.53\" stroke=\"black\"/>\n",
       "</g>\n",
       "<!-- 140601609046952 -->\n",
       "<g class=\"node\" id=\"node5\"><title>140601609046952</title>\n",
       "<polygon fill=\"none\" points=\"0,-949.5 0,-985.5 260,-985.5 260,-949.5 0,-949.5\" stroke=\"black\"/>\n",
       "<text font-family=\"Times,serif\" font-size=\"14.00\" text-anchor=\"middle\" x=\"130\" y=\"-963.8\">batch_normalization_1: BatchNormalization</text>\n",
       "</g>\n",
       "<!-- 140601609044544&#45;&gt;140601609046952 -->\n",
       "<g class=\"edge\" id=\"edge4\"><title>140601609044544-&gt;140601609046952</title>\n",
       "<path d=\"M130,-1022.31C130,-1014.29 130,-1004.55 130,-995.569\" fill=\"none\" stroke=\"black\"/>\n",
       "<polygon fill=\"black\" points=\"133.5,-995.529 130,-985.529 126.5,-995.529 133.5,-995.529\" stroke=\"black\"/>\n",
       "</g>\n",
       "<!-- 140601609106152 -->\n",
       "<g class=\"node\" id=\"node6\"><title>140601609106152</title>\n",
       "<polygon fill=\"none\" points=\"26.5,-876.5 26.5,-912.5 233.5,-912.5 233.5,-876.5 26.5,-876.5\" stroke=\"black\"/>\n",
       "<text font-family=\"Times,serif\" font-size=\"14.00\" text-anchor=\"middle\" x=\"130\" y=\"-890.8\">max_pooling2d_1: MaxPooling2D</text>\n",
       "</g>\n",
       "<!-- 140601609046952&#45;&gt;140601609106152 -->\n",
       "<g class=\"edge\" id=\"edge5\"><title>140601609046952-&gt;140601609106152</title>\n",
       "<path d=\"M130,-949.313C130,-941.289 130,-931.547 130,-922.569\" fill=\"none\" stroke=\"black\"/>\n",
       "<polygon fill=\"black\" points=\"133.5,-922.529 130,-912.529 126.5,-922.529 133.5,-922.529\" stroke=\"black\"/>\n",
       "</g>\n",
       "<!-- 140601608695592 -->\n",
       "<g class=\"node\" id=\"node7\"><title>140601608695592</title>\n",
       "<polygon fill=\"none\" points=\"68.5,-803.5 68.5,-839.5 191.5,-839.5 191.5,-803.5 68.5,-803.5\" stroke=\"black\"/>\n",
       "<text font-family=\"Times,serif\" font-size=\"14.00\" text-anchor=\"middle\" x=\"130\" y=\"-817.8\">conv2d_2: Conv2D</text>\n",
       "</g>\n",
       "<!-- 140601609106152&#45;&gt;140601608695592 -->\n",
       "<g class=\"edge\" id=\"edge6\"><title>140601609106152-&gt;140601608695592</title>\n",
       "<path d=\"M130,-876.313C130,-868.289 130,-858.547 130,-849.569\" fill=\"none\" stroke=\"black\"/>\n",
       "<polygon fill=\"black\" points=\"133.5,-849.529 130,-839.529 126.5,-849.529 133.5,-849.529\" stroke=\"black\"/>\n",
       "</g>\n",
       "<!-- 140601608776056 -->\n",
       "<g class=\"node\" id=\"node8\"><title>140601608776056</title>\n",
       "<polygon fill=\"none\" points=\"0,-730.5 0,-766.5 260,-766.5 260,-730.5 0,-730.5\" stroke=\"black\"/>\n",
       "<text font-family=\"Times,serif\" font-size=\"14.00\" text-anchor=\"middle\" x=\"130\" y=\"-744.8\">batch_normalization_2: BatchNormalization</text>\n",
       "</g>\n",
       "<!-- 140601608695592&#45;&gt;140601608776056 -->\n",
       "<g class=\"edge\" id=\"edge7\"><title>140601608695592-&gt;140601608776056</title>\n",
       "<path d=\"M130,-803.313C130,-795.289 130,-785.547 130,-776.569\" fill=\"none\" stroke=\"black\"/>\n",
       "<polygon fill=\"black\" points=\"133.5,-776.529 130,-766.529 126.5,-776.529 133.5,-776.529\" stroke=\"black\"/>\n",
       "</g>\n",
       "<!-- 140601608111608 -->\n",
       "<g class=\"node\" id=\"node9\"><title>140601608111608</title>\n",
       "<polygon fill=\"none\" points=\"68.5,-657.5 68.5,-693.5 191.5,-693.5 191.5,-657.5 68.5,-657.5\" stroke=\"black\"/>\n",
       "<text font-family=\"Times,serif\" font-size=\"14.00\" text-anchor=\"middle\" x=\"130\" y=\"-671.8\">conv2d_3: Conv2D</text>\n",
       "</g>\n",
       "<!-- 140601608776056&#45;&gt;140601608111608 -->\n",
       "<g class=\"edge\" id=\"edge8\"><title>140601608776056-&gt;140601608111608</title>\n",
       "<path d=\"M130,-730.313C130,-722.289 130,-712.547 130,-703.569\" fill=\"none\" stroke=\"black\"/>\n",
       "<polygon fill=\"black\" points=\"133.5,-703.529 130,-693.529 126.5,-703.529 133.5,-703.529\" stroke=\"black\"/>\n",
       "</g>\n",
       "<!-- 140601608841816 -->\n",
       "<g class=\"node\" id=\"node10\"><title>140601608841816</title>\n",
       "<polygon fill=\"none\" points=\"68.5,-584.5 68.5,-620.5 191.5,-620.5 191.5,-584.5 68.5,-584.5\" stroke=\"black\"/>\n",
       "<text font-family=\"Times,serif\" font-size=\"14.00\" text-anchor=\"middle\" x=\"130\" y=\"-598.8\">conv2d_4: Conv2D</text>\n",
       "</g>\n",
       "<!-- 140601608111608&#45;&gt;140601608841816 -->\n",
       "<g class=\"edge\" id=\"edge9\"><title>140601608111608-&gt;140601608841816</title>\n",
       "<path d=\"M130,-657.313C130,-649.289 130,-639.547 130,-630.569\" fill=\"none\" stroke=\"black\"/>\n",
       "<polygon fill=\"black\" points=\"133.5,-630.529 130,-620.529 126.5,-630.529 133.5,-630.529\" stroke=\"black\"/>\n",
       "</g>\n",
       "<!-- 140601608319944 -->\n",
       "<g class=\"node\" id=\"node11\"><title>140601608319944</title>\n",
       "<polygon fill=\"none\" points=\"75,-511.5 75,-547.5 185,-547.5 185,-511.5 75,-511.5\" stroke=\"black\"/>\n",
       "<text font-family=\"Times,serif\" font-size=\"14.00\" text-anchor=\"middle\" x=\"130\" y=\"-525.8\">flatten_1: Flatten</text>\n",
       "</g>\n",
       "<!-- 140601608841816&#45;&gt;140601608319944 -->\n",
       "<g class=\"edge\" id=\"edge10\"><title>140601608841816-&gt;140601608319944</title>\n",
       "<path d=\"M130,-584.313C130,-576.289 130,-566.547 130,-557.569\" fill=\"none\" stroke=\"black\"/>\n",
       "<polygon fill=\"black\" points=\"133.5,-557.529 130,-547.529 126.5,-557.529 133.5,-557.529\" stroke=\"black\"/>\n",
       "</g>\n",
       "<!-- 140601607343744 -->\n",
       "<g class=\"node\" id=\"node12\"><title>140601607343744</title>\n",
       "<polygon fill=\"none\" points=\"79,-438.5 79,-474.5 181,-474.5 181,-438.5 79,-438.5\" stroke=\"black\"/>\n",
       "<text font-family=\"Times,serif\" font-size=\"14.00\" text-anchor=\"middle\" x=\"130\" y=\"-452.8\">dense_1: Dense</text>\n",
       "</g>\n",
       "<!-- 140601608319944&#45;&gt;140601607343744 -->\n",
       "<g class=\"edge\" id=\"edge11\"><title>140601608319944-&gt;140601607343744</title>\n",
       "<path d=\"M130,-511.313C130,-503.289 130,-493.547 130,-484.569\" fill=\"none\" stroke=\"black\"/>\n",
       "<polygon fill=\"black\" points=\"133.5,-484.529 130,-474.529 126.5,-484.529 133.5,-484.529\" stroke=\"black\"/>\n",
       "</g>\n",
       "<!-- 140601607490080 -->\n",
       "<g class=\"node\" id=\"node13\"><title>140601607490080</title>\n",
       "<polygon fill=\"none\" points=\"67.5,-365.5 67.5,-401.5 192.5,-401.5 192.5,-365.5 67.5,-365.5\" stroke=\"black\"/>\n",
       "<text font-family=\"Times,serif\" font-size=\"14.00\" text-anchor=\"middle\" x=\"130\" y=\"-379.8\">dropout_1: Dropout</text>\n",
       "</g>\n",
       "<!-- 140601607343744&#45;&gt;140601607490080 -->\n",
       "<g class=\"edge\" id=\"edge12\"><title>140601607343744-&gt;140601607490080</title>\n",
       "<path d=\"M130,-438.313C130,-430.289 130,-420.547 130,-411.569\" fill=\"none\" stroke=\"black\"/>\n",
       "<polygon fill=\"black\" points=\"133.5,-411.529 130,-401.529 126.5,-411.529 133.5,-411.529\" stroke=\"black\"/>\n",
       "</g>\n",
       "<!-- 140601607040248 -->\n",
       "<g class=\"node\" id=\"node14\"><title>140601607040248</title>\n",
       "<polygon fill=\"none\" points=\"79,-292.5 79,-328.5 181,-328.5 181,-292.5 79,-292.5\" stroke=\"black\"/>\n",
       "<text font-family=\"Times,serif\" font-size=\"14.00\" text-anchor=\"middle\" x=\"130\" y=\"-306.8\">dense_2: Dense</text>\n",
       "</g>\n",
       "<!-- 140601607490080&#45;&gt;140601607040248 -->\n",
       "<g class=\"edge\" id=\"edge13\"><title>140601607490080-&gt;140601607040248</title>\n",
       "<path d=\"M130,-365.313C130,-357.289 130,-347.547 130,-338.569\" fill=\"none\" stroke=\"black\"/>\n",
       "<polygon fill=\"black\" points=\"133.5,-338.529 130,-328.529 126.5,-338.529 133.5,-338.529\" stroke=\"black\"/>\n",
       "</g>\n",
       "<!-- 140601607040304 -->\n",
       "<g class=\"node\" id=\"node15\"><title>140601607040304</title>\n",
       "<polygon fill=\"none\" points=\"67.5,-219.5 67.5,-255.5 192.5,-255.5 192.5,-219.5 67.5,-219.5\" stroke=\"black\"/>\n",
       "<text font-family=\"Times,serif\" font-size=\"14.00\" text-anchor=\"middle\" x=\"130\" y=\"-233.8\">dropout_2: Dropout</text>\n",
       "</g>\n",
       "<!-- 140601607040248&#45;&gt;140601607040304 -->\n",
       "<g class=\"edge\" id=\"edge14\"><title>140601607040248-&gt;140601607040304</title>\n",
       "<path d=\"M130,-292.313C130,-284.289 130,-274.547 130,-265.569\" fill=\"none\" stroke=\"black\"/>\n",
       "<polygon fill=\"black\" points=\"133.5,-265.529 130,-255.529 126.5,-265.529 133.5,-265.529\" stroke=\"black\"/>\n",
       "</g>\n",
       "<!-- 140601607281632 -->\n",
       "<g class=\"node\" id=\"node16\"><title>140601607281632</title>\n",
       "<polygon fill=\"none\" points=\"79,-146.5 79,-182.5 181,-182.5 181,-146.5 79,-146.5\" stroke=\"black\"/>\n",
       "<text font-family=\"Times,serif\" font-size=\"14.00\" text-anchor=\"middle\" x=\"130\" y=\"-160.8\">dense_3: Dense</text>\n",
       "</g>\n",
       "<!-- 140601607040304&#45;&gt;140601607281632 -->\n",
       "<g class=\"edge\" id=\"edge15\"><title>140601607040304-&gt;140601607281632</title>\n",
       "<path d=\"M130,-219.313C130,-211.289 130,-201.547 130,-192.569\" fill=\"none\" stroke=\"black\"/>\n",
       "<polygon fill=\"black\" points=\"133.5,-192.529 130,-182.529 126.5,-192.529 133.5,-192.529\" stroke=\"black\"/>\n",
       "</g>\n",
       "<!-- 140601607281240 -->\n",
       "<g class=\"node\" id=\"node17\"><title>140601607281240</title>\n",
       "<polygon fill=\"none\" points=\"79,-73.5 79,-109.5 181,-109.5 181,-73.5 79,-73.5\" stroke=\"black\"/>\n",
       "<text font-family=\"Times,serif\" font-size=\"14.00\" text-anchor=\"middle\" x=\"130\" y=\"-87.8\">dense_4: Dense</text>\n",
       "</g>\n",
       "<!-- 140601607281632&#45;&gt;140601607281240 -->\n",
       "<g class=\"edge\" id=\"edge16\"><title>140601607281632-&gt;140601607281240</title>\n",
       "<path d=\"M130,-146.313C130,-138.289 130,-128.547 130,-119.569\" fill=\"none\" stroke=\"black\"/>\n",
       "<polygon fill=\"black\" points=\"133.5,-119.529 130,-109.529 126.5,-119.529 133.5,-119.529\" stroke=\"black\"/>\n",
       "</g>\n",
       "<!-- 140601606998896 -->\n",
       "<g class=\"node\" id=\"node18\"><title>140601606998896</title>\n",
       "<polygon fill=\"none\" points=\"79,-0.5 79,-36.5 181,-36.5 181,-0.5 79,-0.5\" stroke=\"black\"/>\n",
       "<text font-family=\"Times,serif\" font-size=\"14.00\" text-anchor=\"middle\" x=\"130\" y=\"-14.8\">dense_5: Dense</text>\n",
       "</g>\n",
       "<!-- 140601607281240&#45;&gt;140601606998896 -->\n",
       "<g class=\"edge\" id=\"edge17\"><title>140601607281240-&gt;140601606998896</title>\n",
       "<path d=\"M130,-73.3129C130,-65.2895 130,-55.5475 130,-46.5691\" fill=\"none\" stroke=\"black\"/>\n",
       "<polygon fill=\"black\" points=\"133.5,-46.5288 130,-36.5288 126.5,-46.5289 133.5,-46.5288\" stroke=\"black\"/>\n",
       "</g>\n",
       "</g>\n",
       "</svg>"
      ],
      "text/plain": [
       "<IPython.core.display.SVG object>"
      ]
     },
     "execution_count": 12,
     "metadata": {},
     "output_type": "execute_result"
    }
   ],
   "source": [
    "#from keras.utils import plot_model\n",
    "# show model architecture\n",
    "#plt.figure(figsize=(20,20))\n",
    "#plot_model(model, to_file='model.png')\n",
    "#plt.imshow(cv2.imread('model.png'))\n",
    "#plt.show()\n",
    "\n",
    "# SVG visualization worked better than above.\n",
    "from IPython.display import SVG\n",
    "from keras.utils.vis_utils import model_to_dot\n",
    "\n",
    "SVG(model_to_dot(model).create(prog='dot', format='svg'))"
   ]
  },
  {
   "cell_type": "code",
   "execution_count": 13,
   "metadata": {
    "collapsed": false
   },
   "outputs": [
    {
     "name": "stdout",
     "output_type": "stream",
     "text": [
      "DBLogger(2, \"train_car_to_drive\")\n"
     ]
    }
   ],
   "source": [
    "# visualization of training with kerasvis\n",
    "kerasvis_logger = kerasvis.DBLogger(comment=\"train_car_to_drive\")"
   ]
  },
  {
   "cell_type": "code",
   "execution_count": 14,
   "metadata": {
    "collapsed": false
   },
   "outputs": [
    {
     "name": "stdout",
     "output_type": "stream",
     "text": [
      "Epoch 1/5\n",
      "178s - loss: 0.2916 - val_loss: 0.0603\n",
      "Epoch 2/5\n",
      "180s - loss: 0.0530 - val_loss: 0.0463\n",
      "Epoch 3/5\n",
      "181s - loss: 0.0398 - val_loss: 0.0330\n",
      "Epoch 4/5\n",
      "179s - loss: 0.0309 - val_loss: 0.0326\n",
      "Epoch 5/5\n",
      "178s - loss: 0.0302 - val_loss: 0.0312\n",
      "\n"
     ]
    }
   ],
   "source": [
    "model.fit_generator(train_generator, steps_per_epoch=int(6*len(train_samples)/BATCH_SIZE),\n",
    "                    validation_data = validation_generator,\n",
    "                    validation_steps = int(6*len(validation_samples)/BATCH_SIZE), epochs=5,\n",
    "                    verbose=2, callbacks=[TQDMNotebookCallback(leave_inner=True, leave_outer=True), \n",
    "                                         kerasvis_logger])\n",
    "\n",
    "# verbose = 0, callbacks=[TQDMNotebookCallback()]\n",
    "                    \n",
    "          #batch_size=batch_size,\n",
    "#          epochs=epochs,\n",
    "#          verbose=1,\n",
    "#          shuffle = True,\n",
    "#          validation_split=0.3)\n",
    "\n",
    "\n",
    "\n",
    "#!pip install h5py\n",
    "import h5py as h5py\n",
    "model.save('model.h5')"
   ]
  },
  {
   "cell_type": "code",
   "execution_count": null,
   "metadata": {
    "collapsed": true
   },
   "outputs": [],
   "source": []
  },
  {
   "cell_type": "code",
   "execution_count": null,
   "metadata": {
    "collapsed": false
   },
   "outputs": [],
   "source": []
  },
  {
   "cell_type": "code",
   "execution_count": null,
   "metadata": {
    "collapsed": false
   },
   "outputs": [],
   "source": []
  },
  {
   "cell_type": "code",
   "execution_count": null,
   "metadata": {
    "collapsed": true
   },
   "outputs": [],
   "source": []
  },
  {
   "cell_type": "code",
   "execution_count": null,
   "metadata": {
    "collapsed": true
   },
   "outputs": [],
   "source": []
  },
  {
   "cell_type": "code",
   "execution_count": null,
   "metadata": {
    "collapsed": true
   },
   "outputs": [],
   "source": []
  },
  {
   "cell_type": "code",
   "execution_count": null,
   "metadata": {
    "collapsed": true
   },
   "outputs": [],
   "source": []
  }
 ],
 "metadata": {
  "kernelspec": {
   "display_name": "Python 3",
   "language": "python",
   "name": "python3"
  },
  "language_info": {
   "codemirror_mode": {
    "name": "ipython",
    "version": 3
   },
   "file_extension": ".py",
   "mimetype": "text/x-python",
   "name": "python",
   "nbconvert_exporter": "python",
   "pygments_lexer": "ipython3",
   "version": "3.5.3"
  },
  "widgets": {
   "state": {
    "42ced3a9c5ea4cfabcbec9b9ba6b2e6f": {
     "views": [
      {
       "cell_index": 15
      }
     ]
    },
    "80a40a4a461d4831a36fd74fde95fd7f": {
     "views": [
      {
       "cell_index": 15
      }
     ]
    },
    "9e36102385c94490a914a7ec43914cc0": {
     "views": [
      {
       "cell_index": 13
      }
     ]
    },
    "a5c8214b913c4f27a79d9441ec8e2bcb": {
     "views": [
      {
       "cell_index": 15
      }
     ]
    },
    "aea1aa70a2df4167849bc82036502954": {
     "views": [
      {
       "cell_index": 15
      }
     ]
    },
    "b7fc688729df45c882b9f642f1286df7": {
     "views": [
      {
       "cell_index": 15
      }
     ]
    },
    "d471f5e94ad14bb595417d2f9f5b77f2": {
     "views": [
      {
       "cell_index": 14
      }
     ]
    },
    "f0f9cd4937ba4cb69b10e55fe1921d01": {
     "views": [
      {
       "cell_index": 15
      }
     ]
    },
    "f30d284e4f0348028090f016ca75f357": {
     "views": [
      {
       "cell_index": 15
      }
     ]
    },
    "f3dbbb4ba40f4202b9155e7f244a8277": {
     "views": [
      {
       "cell_index": 15
      }
     ]
    }
   },
   "version": "1.2.0"
  }
 },
 "nbformat": 4,
 "nbformat_minor": 2
}
